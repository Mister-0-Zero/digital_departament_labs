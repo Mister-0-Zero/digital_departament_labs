{
 "cells": [
  {
   "cell_type": "code",
   "execution_count": 2,
   "id": "b104978e",
   "metadata": {},
   "outputs": [
    {
     "name": "stdout",
     "output_type": "stream",
     "text": [
      "Готово! Архивы скачаны и распакованы в папку ./data\n"
     ]
    }
   ],
   "source": [
    "import os\n",
    "from urllib.request import urlretrieve\n",
    "import zipfile\n",
    "\n",
    "# Создание папки data, если не существует\n",
    "os.makedirs('./data', exist_ok=True)\n",
    "\n",
    "# Пути к файлам\n",
    "train_zip_path = './data/train.zip'\n",
    "valid_zip_path = './data/valid.zip'\n",
    "\n",
    "# Скачивание архивов\n",
    "urlretrieve('https://www.dropbox.com/scl/fi/bel6gt6vsb3onahlxvyjc/train_fix.zip?rlkey=q2wscp6wv9j2hbk07y1mbcm54&dl=1', train_zip_path)\n",
    "urlretrieve('https://www.dropbox.com/scl/fi/cwwblwhvqgwubb8a4xg90/valid.zip?rlkey=mow899lvyawq4wku2m8lfvrh3&dl=1', valid_zip_path)\n",
    "\n",
    "# Распаковка\n",
    "with zipfile.ZipFile(train_zip_path, 'r') as zip_ref:\n",
    "    zip_ref.extractall('./data/train')\n",
    "\n",
    "with zipfile.ZipFile(valid_zip_path, 'r') as zip_ref:\n",
    "    zip_ref.extractall('./data/valid')\n",
    "\n",
    "print(\"Готово! Архивы скачаны и распакованы в папку ./data\")\n"
   ]
  },
  {
   "cell_type": "code",
   "execution_count": null,
   "id": "f8604f7c",
   "metadata": {},
   "outputs": [],
   "source": []
  }
 ],
 "metadata": {
  "kernelspec": {
   "display_name": "Python 3",
   "language": "python",
   "name": "python3"
  },
  "language_info": {
   "codemirror_mode": {
    "name": "ipython",
    "version": 3
   },
   "file_extension": ".py",
   "mimetype": "text/x-python",
   "name": "python",
   "nbconvert_exporter": "python",
   "pygments_lexer": "ipython3",
   "version": "3.11.2"
  }
 },
 "nbformat": 4,
 "nbformat_minor": 5
}
