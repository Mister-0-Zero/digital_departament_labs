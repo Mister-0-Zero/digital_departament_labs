{
 "cells": [
  {
   "cell_type": "markdown",
   "id": "2b699e1d",
   "metadata": {},
   "source": [
    "# Загрузка и обработка файлов"
   ]
  },
  {
   "cell_type": "markdown",
   "id": "599954e2",
   "metadata": {},
   "source": [
    "## Скачивание данных, распаковка и запись"
   ]
  },
  {
   "cell_type": "code",
   "execution_count": null,
   "id": "b104978e",
   "metadata": {},
   "outputs": [
    {
     "name": "stdout",
     "output_type": "stream",
     "text": [
      "Готово! Архивы скачаны и распакованы в папку ./data\n"
     ]
    }
   ],
   "source": [
    "'''\n",
    "import os\n",
    "from urllib.request import urlretrieve\n",
    "import zipfile\n",
    "\n",
    "# Создание папки data, если не существует\n",
    "os.makedirs('./data', exist_ok=True)\n",
    "\n",
    "# Пути к файлам\n",
    "train_zip_path = './data/train.zip'\n",
    "valid_zip_path = './data/valid.zip'\n",
    "\n",
    "# Скачивание архивов\n",
    "urlretrieve('https://www.dropbox.com/scl/fi/bel6gt6vsb3onahlxvyjc/train_fix.zip?rlkey=q2wscp6wv9j2hbk07y1mbcm54&dl=1', train_zip_path)\n",
    "urlretrieve('https://www.dropbox.com/scl/fi/cwwblwhvqgwubb8a4xg90/valid.zip?rlkey=mow899lvyawq4wku2m8lfvrh3&dl=1', valid_zip_path)\n",
    "\n",
    "# Распаковка\n",
    "with zipfile.ZipFile(train_zip_path, 'r') as zip_ref:\n",
    "    zip_ref.extractall('./data/train')\n",
    "\n",
    "with zipfile.ZipFile(valid_zip_path, 'r') as zip_ref:\n",
    "    zip_ref.extractall('./data/valid')\n",
    "\n",
    "print(\"Готово! Архивы скачаны и распакованы в папку ./data\")\n",
    "'''\n"
   ]
  },
  {
   "cell_type": "markdown",
   "id": "85ff33c1",
   "metadata": {},
   "source": [
    "## Разделим виды бабочек по классам в разные папки"
   ]
  },
  {
   "cell_type": "code",
   "execution_count": 6,
   "id": "af727ac5",
   "metadata": {},
   "outputs": [
    {
     "name": "stdout",
     "output_type": "stream",
     "text": [
      "✅ Структура папок исправлена\n"
     ]
    }
   ],
   "source": [
    "import os\n",
    "import shutil\n",
    "from pathlib import Path\n",
    "\n",
    "def restructure_dataset(source_dir):\n",
    "    for file_name in os.listdir(source_dir):\n",
    "        if not file_name.endswith(('.jpg', '.jpeg', '.png')):\n",
    "            continue\n",
    "\n",
    "        # Извлекаем имя класса из имени файла (до первой скобки)\n",
    "        class_name = file_name.split(' (')[0]\n",
    "        class_dir = os.path.join(source_dir, class_name)\n",
    "\n",
    "        # Создаем папку, если нужно\n",
    "        os.makedirs(class_dir, exist_ok=True)\n",
    "\n",
    "        # Перемещаем файл в папку\n",
    "        src_path = os.path.join(source_dir, file_name)\n",
    "        dst_path = os.path.join(class_dir, file_name)\n",
    "        shutil.move(src_path, dst_path)\n",
    "\n",
    "# Применяем к train и valid\n",
    "restructure_dataset('./data/train')\n",
    "restructure_dataset('./data/valid')\n",
    "\n",
    "print(\"✅ Структура папок исправлена\")\n"
   ]
  },
  {
   "cell_type": "markdown",
   "id": "dc0d8a98",
   "metadata": {},
   "source": [
    "# Подготовка данных"
   ]
  },
  {
   "cell_type": "code",
   "execution_count": 11,
   "id": "f8604f7c",
   "metadata": {},
   "outputs": [],
   "source": [
    "import torch\n",
    "from torchvision import datasets, transforms\n",
    "from torch.utils.data import DataLoader, random_split\n",
    "import torch.nn as nn\n",
    "import torch.nn.functional as F"
   ]
  },
  {
   "cell_type": "code",
   "execution_count": 4,
   "id": "988a92b8",
   "metadata": {},
   "outputs": [],
   "source": [
    "# Аугментации и нормализация\n",
    "transform = transforms.Compose([\n",
    "    transforms.ToTensor(),\n",
    "])"
   ]
  },
  {
   "cell_type": "code",
   "execution_count": 8,
   "id": "e0755ee4",
   "metadata": {},
   "outputs": [],
   "source": [
    "# Загрузка датасета\n",
    "train_data_full = datasets.ImageFolder(root='./data/train', transform=transform)\n",
    "valid_data = datasets.ImageFolder(root='./data/valid', transform=transform)\n",
    "\n",
    "# Разделение тренировочной на обучающую и внутреннюю валидацию\n",
    "train_size = int(0.8 * len(train_data_full))\n",
    "val_size = len(train_data_full) - train_size\n",
    "train_data, train_val_data = random_split(train_data_full, [train_size, val_size])"
   ]
  },
  {
   "cell_type": "code",
   "execution_count": 9,
   "id": "8db4851a",
   "metadata": {},
   "outputs": [],
   "source": [
    "# DataLoader'ы\n",
    "train_loader = DataLoader(train_data, batch_size=32, shuffle=True)\n",
    "val_loader = DataLoader(train_val_data, batch_size=32)\n",
    "valid_loader = DataLoader(valid_data, batch_size=32)"
   ]
  },
  {
   "cell_type": "code",
   "execution_count": 10,
   "id": "0dc7ba66",
   "metadata": {},
   "outputs": [
    {
     "name": "stdout",
     "output_type": "stream",
     "text": [
      "Всего классов: 75\n"
     ]
    }
   ],
   "source": [
    "# Число классов\n",
    "num_classes = len(train_data_full.classes)\n",
    "print(f\"Всего классов: {num_classes}\")"
   ]
  },
  {
   "cell_type": "markdown",
   "id": "32a429d9",
   "metadata": {},
   "source": [
    "# Работа с моделью"
   ]
  },
  {
   "cell_type": "markdown",
   "id": "b610f4fc",
   "metadata": {},
   "source": [
    "## Создание модели"
   ]
  },
  {
   "cell_type": "code",
   "execution_count": 13,
   "id": "45b0dff8",
   "metadata": {},
   "outputs": [],
   "source": [
    "class ButterflyCNN(nn.Module):\n",
    "    def __init__(self, num_classes):\n",
    "        super(ButterflyCNN, self).__init__()\n",
    "        self.conv1 = nn.Conv2d(3, 16, 3, padding=1)\n",
    "        self.conv2 = nn.Conv2d(16, 32, 3, padding=1)\n",
    "        self.conv3 = nn.Conv2d(32, 64, 3, padding=1)\n",
    "        self.pool = nn.MaxPool2d(2, 2)\n",
    "        self.fc1 = nn.Linear(64 * 28 * 28, 256)\n",
    "        self.fc2 = nn.Linear(256, num_classes)\n",
    "\n",
    "    def forward(self, x):\n",
    "        x = self.pool(F.relu(self.conv1(x))) \n",
    "        x = self.pool(F.relu(self.conv2(x))) \n",
    "        x = self.pool(F.relu(self.conv3(x))) \n",
    "        x = x.view(-1, 64 * 28 * 28)\n",
    "        x = F.relu(self.fc1(x))\n",
    "        x = self.fc2(x)\n",
    "        return x\n"
   ]
  },
  {
   "cell_type": "markdown",
   "id": "0dfddc7b",
   "metadata": {},
   "source": [
    "## Обучение модели"
   ]
  },
  {
   "cell_type": "code",
   "execution_count": 14,
   "id": "8dc15a2f",
   "metadata": {},
   "outputs": [
    {
     "name": "stdout",
     "output_type": "stream",
     "text": [
      "Epoch 1/5, Loss: 867.766, Accuracy: 10.53%\n",
      "Epoch 2/5, Loss: 531.868, Accuracy: 39.24%\n",
      "Epoch 3/5, Loss: 361.023, Accuracy: 56.74%\n",
      "Epoch 4/5, Loss: 245.505, Accuracy: 69.84%\n",
      "Epoch 5/5, Loss: 138.975, Accuracy: 82.62%\n"
     ]
    }
   ],
   "source": [
    "device = torch.device(\"cuda\" if torch.cuda.is_available() else \"cpu\")\n",
    "model = ButterflyCNN(num_classes=num_classes).to(device)\n",
    "\n",
    "criterion = nn.CrossEntropyLoss()\n",
    "optimizer = torch.optim.Adam(model.parameters(), lr=0.001)\n",
    "\n",
    "# Тренировка\n",
    "epochs = 5\n",
    "for epoch in range(epochs):\n",
    "    model.train()\n",
    "    running_loss = 0.0\n",
    "    correct = 0\n",
    "    total = 0\n",
    "    for images, labels in train_loader:\n",
    "        images, labels = images.to(device), labels.to(device)\n",
    "\n",
    "        optimizer.zero_grad()\n",
    "        outputs = model(images)\n",
    "        loss = criterion(outputs, labels)\n",
    "        loss.backward()\n",
    "        optimizer.step()\n",
    "\n",
    "        running_loss += loss.item()\n",
    "        _, predicted = torch.max(outputs.data, 1)\n",
    "        total += labels.size(0)\n",
    "        correct += (predicted == labels).sum().item()\n",
    "\n",
    "    acc = 100 * correct / total\n",
    "    print(f\"Epoch {epoch+1}/{epochs}, Loss: {running_loss:.3f}, Accuracy: {acc:.2f}%\")\n"
   ]
  },
  {
   "cell_type": "code",
   "execution_count": null,
   "id": "e51da184",
   "metadata": {},
   "outputs": [
    {
     "name": "stdout",
     "output_type": "stream",
     "text": [
      "Модель сохранена\n"
     ]
    }
   ],
   "source": [
    "torch.save(model.state_dict(), './model/butterfly_model.pth')\n",
    "print(\"Модель сохранена\")"
   ]
  },
  {
   "cell_type": "code",
   "execution_count": 17,
   "id": "52b26fa7",
   "metadata": {},
   "outputs": [
    {
     "name": "stderr",
     "output_type": "stream",
     "text": [
      "C:\\Users\\Alexey\\AppData\\Local\\Temp\\ipykernel_14340\\1610739513.py:1: FutureWarning: You are using `torch.load` with `weights_only=False` (the current default value), which uses the default pickle module implicitly. It is possible to construct malicious pickle data which will execute arbitrary code during unpickling (See https://github.com/pytorch/pytorch/blob/main/SECURITY.md#untrusted-models for more details). In a future release, the default value for `weights_only` will be flipped to `True`. This limits the functions that could be executed during unpickling. Arbitrary objects will no longer be allowed to be loaded via this mode unless they are explicitly allowlisted by the user via `torch.serialization.add_safe_globals`. We recommend you start setting `weights_only=True` for any use case where you don't have full control of the loaded file. Please open an issue on GitHub for any issues related to this experimental feature.\n",
      "  model.load_state_dict(torch.load('./model/butterfly_model.pth'))\n"
     ]
    },
    {
     "data": {
      "text/plain": [
       "ButterflyCNN(\n",
       "  (conv1): Conv2d(3, 16, kernel_size=(3, 3), stride=(1, 1), padding=(1, 1))\n",
       "  (conv2): Conv2d(16, 32, kernel_size=(3, 3), stride=(1, 1), padding=(1, 1))\n",
       "  (conv3): Conv2d(32, 64, kernel_size=(3, 3), stride=(1, 1), padding=(1, 1))\n",
       "  (pool): MaxPool2d(kernel_size=2, stride=2, padding=0, dilation=1, ceil_mode=False)\n",
       "  (fc1): Linear(in_features=50176, out_features=256, bias=True)\n",
       "  (fc2): Linear(in_features=256, out_features=75, bias=True)\n",
       ")"
      ]
     },
     "execution_count": 17,
     "metadata": {},
     "output_type": "execute_result"
    }
   ],
   "source": [
    "model.load_state_dict(torch.load('./model/butterfly_model.pth'))\n",
    "model.to(device)"
   ]
  }
 ],
 "metadata": {
  "kernelspec": {
   "display_name": "Python 3",
   "language": "python",
   "name": "python3"
  },
  "language_info": {
   "codemirror_mode": {
    "name": "ipython",
    "version": 3
   },
   "file_extension": ".py",
   "mimetype": "text/x-python",
   "name": "python",
   "nbconvert_exporter": "python",
   "pygments_lexer": "ipython3",
   "version": "3.11.2"
  }
 },
 "nbformat": 4,
 "nbformat_minor": 5
}
